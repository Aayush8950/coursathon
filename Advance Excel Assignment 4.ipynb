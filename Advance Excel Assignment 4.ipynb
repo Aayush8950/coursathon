{
 "cells": [
  {
   "cell_type": "markdown",
   "id": "23e2ff8e",
   "metadata": {},
   "source": [
    "# 1. To use the ribbon commands, what menu and grouping of commands will you find the Insert and Delete command?"
   ]
  },
  {
   "cell_type": "code",
   "execution_count": null,
   "id": "16b58356",
   "metadata": {},
   "outputs": [],
   "source": [
    "file - option - customize ribbon these steps i follow to achieve the result   "
   ]
  },
  {
   "cell_type": "markdown",
   "id": "afa2edbc",
   "metadata": {},
   "source": [
    "# 2. If you set a row height or column width to 0 (zero), what happens to the row and\n",
    "column?"
   ]
  },
  {
   "cell_type": "code",
   "execution_count": null,
   "id": "94084d67",
   "metadata": {},
   "outputs": [],
   "source": [
    "coloumn and rows become hidden"
   ]
  },
  {
   "cell_type": "markdown",
   "id": "033476bc",
   "metadata": {},
   "source": [
    "# 3. Is there a need to change the height and width in a cell? Why?"
   ]
  },
  {
   "cell_type": "code",
   "execution_count": null,
   "id": "ad23a92a",
   "metadata": {},
   "outputs": [],
   "source": [
    "Yes there sometimes a need for changing the row coloumn heigjht and width\n",
    "becuase sometimes some value of data is big to observe them easily we used to cahnge height and width"
   ]
  },
  {
   "cell_type": "markdown",
   "id": "0fda2e2b",
   "metadata": {},
   "source": [
    "# 4. What is the keyboard shortcut to unhide rows?"
   ]
  },
  {
   "cell_type": "code",
   "execution_count": null,
   "id": "7abae39c",
   "metadata": {},
   "outputs": [],
   "source": [
    "select the region where you might thinking that row are hidden then press \"ctrl shift 9\""
   ]
  },
  {
   "cell_type": "markdown",
   "id": "885ae01e",
   "metadata": {},
   "source": [
    "# 5. How to hide rows containing blank cells?"
   ]
  },
  {
   "cell_type": "code",
   "execution_count": null,
   "id": "0cd94f47",
   "metadata": {},
   "outputs": [],
   "source": [
    "select the area where you want to aplly this then \"ctrl 9\""
   ]
  },
  {
   "cell_type": "markdown",
   "id": "99e9bcd8",
   "metadata": {},
   "source": [
    "# 6. What are the steps to hide the duplicate values using conditional formatting in excel?"
   ]
  },
  {
   "cell_type": "code",
   "execution_count": null,
   "id": "84fd02b1",
   "metadata": {},
   "outputs": [],
   "source": [
    "Select the range you want to hide duplicates Then click Conditional Formatting > Highlight Cells Rules > Duplicate Values\n",
    "under Home tab\n",
    "In the Duplicate Values dialog box, select Custom Format in the values with drop-down list\n",
    "and then click the OK button."
   ]
  }
 ],
 "metadata": {
  "kernelspec": {
   "display_name": "Python 3 (ipykernel)",
   "language": "python",
   "name": "python3"
  },
  "language_info": {
   "codemirror_mode": {
    "name": "ipython",
    "version": 3
   },
   "file_extension": ".py",
   "mimetype": "text/x-python",
   "name": "python",
   "nbconvert_exporter": "python",
   "pygments_lexer": "ipython3",
   "version": "3.9.7"
  }
 },
 "nbformat": 4,
 "nbformat_minor": 5
}
