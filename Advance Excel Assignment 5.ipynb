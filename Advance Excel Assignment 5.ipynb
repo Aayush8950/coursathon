{
 "cells": [
  {
   "cell_type": "markdown",
   "id": "ea1c3152",
   "metadata": {},
   "source": [
    "# 1. How many types of conditions are available in conditional formatting on Excel?"
   ]
  },
  {
   "cell_type": "code",
   "execution_count": null,
   "id": "58faceec",
   "metadata": {},
   "outputs": [],
   "source": [
    "three"
   ]
  },
  {
   "cell_type": "markdown",
   "id": "24cb9072",
   "metadata": {},
   "source": [
    "# 2. How to insert border in Excel with Format Cells dialog?"
   ]
  },
  {
   "cell_type": "code",
   "execution_count": null,
   "id": "94f36560",
   "metadata": {},
   "outputs": [],
   "source": [
    "Select  cells to which you  like to add borders.\n",
    "Open the Format Cells dialog box by doing one of the following\n",
    "In the Format Cells dialog box, switch to the Border tab and choose the line style and color first\n",
    "click ok."
   ]
  },
  {
   "cell_type": "markdown",
   "id": "0f9a05c5",
   "metadata": {},
   "source": [
    "# 3. How to Format Numbers as Currency in Excel?"
   ]
  },
  {
   "cell_type": "code",
   "execution_count": null,
   "id": "e1a29150",
   "metadata": {},
   "outputs": [],
   "source": [
    "select the cells that you want to format and then, in the number group on the Home tab\n",
    "click the down arrow in the Number Format box.\n",
    "Choose Currency"
   ]
  },
  {
   "cell_type": "markdown",
   "id": "fe7b6f0c",
   "metadata": {},
   "source": [
    "# 4. What are the steps to format numbers in Excel with the Percent style?"
   ]
  },
  {
   "cell_type": "code",
   "execution_count": null,
   "id": "fba4a519",
   "metadata": {},
   "outputs": [],
   "source": [
    "on the home tab, in the number group, click the icon next to number to display\n",
    "the format cells dialog box. in the format cells dialog box, in the category list, click percentage. \n",
    "in the decimal places box, enter the number of decimal places that you want to display."
   ]
  },
  {
   "cell_type": "markdown",
   "id": "fd91f51c",
   "metadata": {},
   "source": [
    "# 5. What is a shortcut to merge two or more cells in excel?"
   ]
  },
  {
   "cell_type": "code",
   "execution_count": null,
   "id": "44ca8251",
   "metadata": {},
   "outputs": [],
   "source": [
    "\"alt h m c \""
   ]
  },
  {
   "cell_type": "markdown",
   "id": "ceece5ff",
   "metadata": {},
   "source": [
    "# 6. How do you use text commands in Excel?"
   ]
  },
  {
   "cell_type": "code",
   "execution_count": null,
   "id": "72a46ea1",
   "metadata": {},
   "outputs": [],
   "source": [
    "here we simple categories the data for e.g. we can convert numeric values into text if they are not meaningful to us in term \n",
    "of performing mathematicsal operation on that"
   ]
  }
 ],
 "metadata": {
  "kernelspec": {
   "display_name": "Python 3 (ipykernel)",
   "language": "python",
   "name": "python3"
  },
  "language_info": {
   "codemirror_mode": {
    "name": "ipython",
    "version": 3
   },
   "file_extension": ".py",
   "mimetype": "text/x-python",
   "name": "python",
   "nbconvert_exporter": "python",
   "pygments_lexer": "ipython3",
   "version": "3.9.7"
  }
 },
 "nbformat": 4,
 "nbformat_minor": 5
}
