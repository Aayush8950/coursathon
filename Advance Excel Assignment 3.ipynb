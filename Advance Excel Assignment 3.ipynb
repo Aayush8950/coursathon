{
 "cells": [
  {
   "cell_type": "markdown",
   "id": "045e2440",
   "metadata": {},
   "source": [
    "# 1. How and when to use the AutoSum command in excel?"
   ]
  },
  {
   "cell_type": "code",
   "execution_count": null,
   "id": "de8ac26b",
   "metadata": {},
   "outputs": [],
   "source": [
    "it is a function that adds together a range of cells and displays the total in the cell below the selected range.\n",
    "For example, if you wanted to add the values of cells between A1 and A5, highlight cells A1 through A5 and\n",
    "click the autoSum button "
   ]
  },
  {
   "cell_type": "markdown",
   "id": "686630a7",
   "metadata": {},
   "source": [
    "# 2. What is the shortcut key to perform AutoSum?"
   ]
  },
  {
   "cell_type": "code",
   "execution_count": null,
   "id": "57a7a8e2",
   "metadata": {},
   "outputs": [],
   "source": [
    "\"alt\"\"+\"\"enter\"  these three keys we have to press first two keys select the operation third key(enter) executes \n",
    "the operation"
   ]
  },
  {
   "cell_type": "markdown",
   "id": "16ef579e",
   "metadata": {},
   "source": [
    "# 3. How do you get rid of Formula that omits adjacent cells?"
   ]
  },
  {
   "cell_type": "code",
   "execution_count": null,
   "id": "a9cb5ccd",
   "metadata": {},
   "outputs": [],
   "source": [
    "Open Excel and then click on File,Go to Options and then select Formulas.\n",
    "Look for Error checking rules and uncheck Formulas which omit cells in a region. now it will not happen\n"
   ]
  },
  {
   "cell_type": "markdown",
   "id": "0deea93a",
   "metadata": {},
   "source": [
    "# 4. How do you select non-adjacent cells in Excel 2016?"
   ]
  },
  {
   "cell_type": "code",
   "execution_count": null,
   "id": "049dd4d5",
   "metadata": {},
   "outputs": [],
   "source": [
    "by using ctrl key plus mouse left click "
   ]
  },
  {
   "cell_type": "markdown",
   "id": "0a82c550",
   "metadata": {},
   "source": [
    "# 5. What happens if you choose a column, hold down the Alt key and press the letters\n",
    "ocw in quick succession?"
   ]
  },
  {
   "cell_type": "code",
   "execution_count": null,
   "id": "dad9407a",
   "metadata": {},
   "outputs": [],
   "source": [
    "we get the option to change coloumn width a dialog box apperas which helps us to do that"
   ]
  },
  {
   "cell_type": "markdown",
   "id": "6cdb40b6",
   "metadata": {},
   "source": [
    "# 6. If you right-click on a row reference number and click on Insert, where will the row\n",
    "be added?"
   ]
  },
  {
   "cell_type": "code",
   "execution_count": null,
   "id": "f04fb510",
   "metadata": {},
   "outputs": [],
   "source": [
    "in the upward direction by default a new row added.."
   ]
  }
 ],
 "metadata": {
  "kernelspec": {
   "display_name": "Python 3 (ipykernel)",
   "language": "python",
   "name": "python3"
  },
  "language_info": {
   "codemirror_mode": {
    "name": "ipython",
    "version": 3
   },
   "file_extension": ".py",
   "mimetype": "text/x-python",
   "name": "python",
   "nbconvert_exporter": "python",
   "pygments_lexer": "ipython3",
   "version": "3.9.7"
  }
 },
 "nbformat": 4,
 "nbformat_minor": 5
}
