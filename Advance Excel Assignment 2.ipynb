{
 "cells": [
  {
   "cell_type": "markdown",
   "id": "75549afb",
   "metadata": {},
   "source": [
    "# 1. What does the dollar($) sign do?"
   ]
  },
  {
   "cell_type": "code",
   "execution_count": null,
   "id": "a1b3efbb",
   "metadata": {},
   "outputs": [],
   "source": [
    "it is used when relative or abosolute refrencing is using by us for fiixing the rows and coloumns\n",
    "we use this for e.g. in some cases we have to fix rows in some colouymns and in som both rows and coloumns to use the\n",
    "auto fill option.\n",
    "also to fix table range we use dollar in vlookup also"
   ]
  },
  {
   "cell_type": "markdown",
   "id": "66ddd5a5",
   "metadata": {},
   "source": [
    "# 2. How to Change the Reference from Relative to Absolute (or Mixed)?"
   ]
  },
  {
   "cell_type": "code",
   "execution_count": null,
   "id": "d4b2b2bb",
   "metadata": {},
   "outputs": [],
   "source": [
    "by using dollar sign then after using that either we can fix row side or coloumn side and now refrence has been changed"
   ]
  },
  {
   "cell_type": "markdown",
   "id": "e98b70e7",
   "metadata": {},
   "source": [
    "# 3. Explain the order of operations in excel?"
   ]
  },
  {
   "cell_type": "code",
   "execution_count": null,
   "id": "d3e1e3dd",
   "metadata": {},
   "outputs": [],
   "source": [
    "i am writing the order that excel follows  while doing an operation no. wise\n",
    "1)Parentheses\n",
    "2) Exponents\n",
    "3) Multiplication\n",
    "4) Division\n",
    "5) Addition\n",
    "6) Subtraction"
   ]
  },
  {
   "cell_type": "markdown",
   "id": "623563c4",
   "metadata": {},
   "source": [
    "# 4. What according to you, are the top 5 functions in excel and write a basic syntax for any of two?"
   ]
  },
  {
   "cell_type": "code",
   "execution_count": null,
   "id": "47af420d",
   "metadata": {},
   "outputs": [],
   "source": [
    "1) absolute refrence\n",
    "2)vlook up\n",
    "3)if function\n",
    "4)sum function\n",
    "5)Average function\n",
    "\n",
    "\n",
    "\n",
    "\n",
    "if function syntax= So an IF statement can have two results.\n",
    "The first result is if your comparison is True, the second if your comparison is False\n",
    "\"syntax= if(logical test, value if true , value if false)\"\n",
    "\n",
    "sum syntax\n",
    "\n",
    "syntax= \"=sum(n1,n2,----------,n100)\"\n",
    " use to find the sum at one go"
   ]
  },
  {
   "cell_type": "markdown",
   "id": "7c4bd996",
   "metadata": {},
   "source": [
    "# 5. When would you use the subtotal function?"
   ]
  },
  {
   "cell_type": "code",
   "execution_count": null,
   "id": "c7b900a0",
   "metadata": {},
   "outputs": [],
   "source": [
    "when we need to analyze the whole performance of data or when we used to compare two large data set we can compare them\n",
    "by their resp. subtotals..."
   ]
  },
  {
   "cell_type": "markdown",
   "id": "2dcacf39",
   "metadata": {},
   "source": [
    "# 6. What is the syntax of the vlookup function? Explain the terms in it?"
   ]
  },
  {
   "cell_type": "code",
   "execution_count": null,
   "id": "d9e9a3f2",
   "metadata": {},
   "outputs": [],
   "source": [
    "=vlookup(value,range of table,coloumn no. which you want from table, 0/1)\n",
    "\n",
    "\n",
    "value= the value which you want to find, it should be left most in table otherwise fail\n",
    "table = from which table you want this value\n",
    "coloumn no.= what is the coloumn no. of table from which you want value \n",
    "0 = Exact match\n",
    "1=Aprrox match"
   ]
  }
 ],
 "metadata": {
  "kernelspec": {
   "display_name": "Python 3 (ipykernel)",
   "language": "python",
   "name": "python3"
  },
  "language_info": {
   "codemirror_mode": {
    "name": "ipython",
    "version": 3
   },
   "file_extension": ".py",
   "mimetype": "text/x-python",
   "name": "python",
   "nbconvert_exporter": "python",
   "pygments_lexer": "ipython3",
   "version": "3.9.7"
  }
 },
 "nbformat": 4,
 "nbformat_minor": 5
}
