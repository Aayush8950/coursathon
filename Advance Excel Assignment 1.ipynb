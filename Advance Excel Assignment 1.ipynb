{
 "cells": [
  {
   "cell_type": "markdown",
   "id": "c666533d",
   "metadata": {},
   "source": [
    "# 1. What do you mean by cells in an excel sheet?"
   ]
  },
  {
   "cell_type": "code",
   "execution_count": null,
   "id": "597fb88f",
   "metadata": {},
   "outputs": [],
   "source": [
    "Cells are the basic building blocks of the excel spreadsheets these store data values ,text and other information\n",
    "these helps us to view data individually \n",
    "these are the most iportant part of an excel spreadsheet"
   ]
  },
  {
   "cell_type": "markdown",
   "id": "72fc30a2",
   "metadata": {},
   "source": [
    "# 2. How can you restrict someone from copying a cell from your worksheet?"
   ]
  },
  {
   "cell_type": "code",
   "execution_count": null,
   "id": "07942cb1",
   "metadata": {},
   "outputs": [],
   "source": [
    "simplee go into Menu bar then  >Review then > Protect sheet then > Password. \n",
    "By entering password you can secure your worksheet from getting copied by others."
   ]
  },
  {
   "cell_type": "markdown",
   "id": "d5304beb",
   "metadata": {},
   "source": [
    "# 3. How to move or copy the worksheet into another workbook?"
   ]
  },
  {
   "cell_type": "code",
   "execution_count": null,
   "id": "92379105",
   "metadata": {},
   "outputs": [],
   "source": [
    "On the Edit menu, click Sheet > Move or Copy Sheet On the To book menu  click the workbook \n",
    "that you want to copy the sheet to. \n",
    "To create a new workbook that contains the moved sheett click new book. In the Before sheet box,\n",
    "click the sheet that you want to insert the copied sheet before, or click move to end"
   ]
  },
  {
   "cell_type": "markdown",
   "id": "1b689aca",
   "metadata": {},
   "source": [
    "# 4. Which key is used as a shortcut for opening a new window document?"
   ]
  },
  {
   "cell_type": "code",
   "execution_count": null,
   "id": "742df36e",
   "metadata": {},
   "outputs": [],
   "source": [
    "ctrl +N"
   ]
  },
  {
   "cell_type": "markdown",
   "id": "86823f9c",
   "metadata": {},
   "source": [
    "# 5. What are the things that we can notice after opening the Excel interface?"
   ]
  },
  {
   "cell_type": "code",
   "execution_count": null,
   "id": "b1b4ddbe",
   "metadata": {},
   "outputs": [],
   "source": [
    "1)quick acces toolbars \n",
    "2) spreadsheet\n",
    "3) many tabs for e.g. home data view insert etc."
   ]
  },
  {
   "cell_type": "markdown",
   "id": "237f270c",
   "metadata": {},
   "source": [
    "# 6. When to use a relative cell reference in excel?"
   ]
  },
  {
   "cell_type": "code",
   "execution_count": null,
   "id": "e13635fa",
   "metadata": {},
   "outputs": [],
   "source": [
    "when we have to use the same formula along the rows \n",
    "for e.g  A   B  sum\n",
    "         3   4   7\n",
    "         6   5   11                                       # here commas are some random value like in first two coloumns \n",
    "        \n",
    "        ,    ,   , \n",
    "        ,    ,   ,\n",
    "        ,    ,   ,\n",
    "        ,    ,   ,\n",
    "        12   38  50\n",
    "        \n",
    "        #here we just apply formula in front  row then drag down \n",
    "        \n",
    "        #in these type of cases we use relative reference        \n",
    "            "
   ]
  }
 ],
 "metadata": {
  "kernelspec": {
   "display_name": "Python 3 (ipykernel)",
   "language": "python",
   "name": "python3"
  },
  "language_info": {
   "codemirror_mode": {
    "name": "ipython",
    "version": 3
   },
   "file_extension": ".py",
   "mimetype": "text/x-python",
   "name": "python",
   "nbconvert_exporter": "python",
   "pygments_lexer": "ipython3",
   "version": "3.9.7"
  }
 },
 "nbformat": 4,
 "nbformat_minor": 5
}
